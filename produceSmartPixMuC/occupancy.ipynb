{
 "cells": [
  {
   "cell_type": "code",
   "execution_count": 2,
   "metadata": {},
   "outputs": [],
   "source": [
    "import numpy as np\n",
    "import matplotlib.pyplot as plt\n",
    "import matplotlib\n",
    "import pandas as pd\n",
    "matplotlib.rcParams[\"figure.dpi\"] = 150\n",
    "from particle import PDGID"
   ]
  },
  {
   "cell_type": "code",
   "execution_count": 3,
   "metadata": {},
   "outputs": [],
   "source": [
    "signalData = pd.read_csv('sig_hits.txt', sep=' ')\n",
    "bibData = pd.read_csv('BIB_hits.txt', sep=' ')"
   ]
  },
  {
   "cell_type": "code",
   "execution_count": 4,
   "metadata": {},
   "outputs": [],
   "source": [
    "sensorAngles = np.arange(-np.pi,np.pi+2*np.pi/8,np.pi/8)\n",
    "\n",
    "def getSensorIndex(x,y):\n",
    "    # Get gamma of the point\n",
    "    gammaP=np.arctan2(y,x)\n",
    "\n",
    "    # Get two sensor angles that are closest to gammaP\n",
    "\n",
    "    diff = np.abs(sensorAngles-gammaP)\n",
    "    index1 = np.argmin(diff)\n",
    "    gamma1=sensorAngles[index1]\n",
    "\n",
    "    diff[index1]=3*np.pi\n",
    "    index2 = np.argmin(diff)\n",
    "    gamma2=sensorAngles[index2]\n",
    "\n",
    "    # Rotate x coordinate of the point by each option for gamma\n",
    "    x1=x*np.cos(-gamma1)-y*np.sin(-gamma1)\n",
    "    y1=y*np.cos(-gamma1)+x*np.sin(-gamma1)\n",
    "    x2=x*np.cos(-gamma2)-y*np.sin(-gamma2)\n",
    "    y2=y*np.cos(-gamma2)+x*np.sin(-gamma2)\n",
    "\n",
    "    # Determine which x is closest to expected value\n",
    "    xTrue=30.16475324197002\n",
    "\n",
    "    diff1=abs(x1-xTrue)\n",
    "    diff2=abs(x2-xTrue)\n",
    "    \n",
    "    # If both x1 and x2 are really close to the ex\n",
    "    if diff1 < 0.5 and diff2 < 0.5:\n",
    "        if y1>8.5 or y1<-4.5:\n",
    "            index=index2\n",
    "        else:\n",
    "            index=index1\n",
    "            \n",
    "    elif diff1<diff2:\n",
    "        index=index1\n",
    "    else:\n",
    "        index=index2\n",
    "\n",
    "    if index==index1:\n",
    "        yentry=y1\n",
    "    else:\n",
    "        yentry=y2\n",
    "    \n",
    "    ylocal=yentry+12.5*13/2/1000\n",
    "    \n",
    "    if index==0:\n",
    "        index=16\n",
    "    if index==17:\n",
    "        index=1\n",
    "    \n",
    "    return -ylocal, index\n"
   ]
  },
  {
   "cell_type": "code",
   "execution_count": 5,
   "metadata": {},
   "outputs": [],
   "source": [
    "index=[]\n",
    "ylocal=[]\n",
    "for x, y in zip(signalData['x'], signalData['y']): \n",
    "    y, i = getSensorIndex(x, y)\n",
    "    index.append(i)\n",
    "    ylocal.append(y)\n",
    "\n",
    "signalData['index'] = index\n",
    "signalData['ylocal'] = ylocal\n",
    "\n",
    "index=[]\n",
    "ylocal=[]\n",
    "for x, y in zip(bibData['x'], bibData['y']):\n",
    "    y, i = getSensorIndex(x, y)\n",
    "    index.append(i)\n",
    "    ylocal.append(y)\n",
    "\n",
    "bibData['index'] = index\n",
    "bibData['ylocal'] = ylocal\n",
    "\n",
    "bibData['num']=np.floor((np.abs(bibData['z'])+5)/10)*np.sign(bibData['z']).astype(int)\n",
    "\n",
    "signalData['num']=np.floor((np.abs(signalData['z'])+5)/10)*np.sign(signalData['z']).astype(int)"
   ]
  },
  {
   "cell_type": "code",
   "execution_count": 34,
   "metadata": {},
   "outputs": [
    {
     "name": "stdout",
     "output_type": "stream",
     "text": [
      "208\n",
      "208\n",
      "208\n"
     ]
    }
   ],
   "source": [
    "# Check to make sure all sensors are on\n",
    "i = 0\n",
    "for index in range(1,17):\n",
    "    for num in range(-6,7):\n",
    "        cut = (bibData['index']==index) & (bibData['num']==num)\n",
    "        if np.sum(cut) != 0:\n",
    "            i+=1 \n",
    "print(i) \n",
    "\n",
    "i = 0\n",
    "for index in range(1,17):\n",
    "    for num in range(-6,7):\n",
    "        cut = (signalData['index']==index) & (signalData['num']==num)\n",
    "        if np.sum(cut) != 0:\n",
    "            i+=1 \n",
    "print(i)\n",
    "print(13*(len(sensorAngles)-2))"
   ]
  },
  {
   "cell_type": "code",
   "execution_count": 36,
   "metadata": {},
   "outputs": [
    {
     "name": "stdout",
     "output_type": "stream",
     "text": [
      "Average occupancy by bib: 183.59134615384616\n",
      "Standard Deviation of bib occupancy: 34.08644725766251 \n",
      "Average occupancy by signal: 223.90384615384616\n",
      "Standard Deviation of signal occupancy: 109.28438723303255 \n"
     ]
    }
   ],
   "source": [
    "# BIB occupancy\n",
    "occupancy=[]\n",
    "for index in range(1,17):\n",
    "    for num in range(-6,7):\n",
    "        cut = (bibData['index']==index) & (bibData['num']==num)\n",
    "        occupancy.append(np.sum(cut)) \n",
    "print(f\"Average occupancy by bib: {np.mean(occupancy)}\")\n",
    "print(f\"Standard Deviation of bib occupancy: {np.std(occupancy)} \")\n",
    "\n",
    "# signal occupancy\n",
    "occupancy=[]\n",
    "for index in range(1,17):\n",
    "    for num in range(-6,7):\n",
    "        cut = (signalData['index']==index) & (signalData['num']==num)\n",
    "        occupancy.append(np.sum(cut)) \n",
    "print(f\"Average occupancy by signal: {np.mean(occupancy)}\")\n",
    "print(f\"Standard Deviation of signal occupancy: {np.std(occupancy)} \")\n"
   ]
  },
  {
   "cell_type": "code",
   "execution_count": 42,
   "metadata": {},
   "outputs": [
    {
     "name": "stdout",
     "output_type": "stream",
     "text": [
      "Average occupancy by bib: 1.6999198717948718\n",
      "Average occupancy by signal: 0.004478076923076923\n"
     ]
    }
   ],
   "source": [
    "# Apply time cut\n",
    "\n",
    "\n",
    "# BIB occupancy\n",
    "occupancy=[]\n",
    "for index in range(1,17):\n",
    "    for num in range(-6,7):\n",
    "        cut = (bibData['index']==index) & (bibData['num']==num)\n",
    "        occupancy.append(np.sum(cut)/108) \n",
    "print(f\"Average occupancy by bib: {np.mean(occupancy)}\")\n",
    "#print(f\"Standard Deviation of bib occupancy: {np.std(occupancy)} \")\n",
    "\n",
    "# signal occupancy\n",
    "occupancy=[]\n",
    "for index in range(1,17):\n",
    "    for num in range(-6,7):\n",
    "        cut = (signalData['index']==index) & (signalData['num']==num)\n",
    "        occupancy.append(np.sum(cut)/50000) \n",
    "print(f\"Average occupancy by signal: {np.mean(occupancy)}\")\n",
    "#print(f\"Standard Deviation of signal occupancy: {np.std(occupancy)} \")"
   ]
  },
  {
   "cell_type": "code",
   "execution_count": 37,
   "metadata": {},
   "outputs": [
    {
     "data": {
      "text/plain": [
       "0.1007"
      ]
     },
     "execution_count": 37,
     "metadata": {},
     "output_type": "execute_result"
    }
   ],
   "source": [
    "min(signalData['t'])"
   ]
  },
  {
   "cell_type": "code",
   "execution_count": 40,
   "metadata": {},
   "outputs": [
    {
     "data": {
      "text/plain": [
       "3.51568"
      ]
     },
     "execution_count": 40,
     "metadata": {},
     "output_type": "execute_result"
    }
   ],
   "source": [
    "max(signalData['t'])"
   ]
  },
  {
   "cell_type": "code",
   "execution_count": null,
   "metadata": {},
   "outputs": [
    {
     "name": "stdout",
     "output_type": "stream",
     "text": [
      "Average occupancy by bib: 0.4807692307692308\n",
      "Average occupancy by signal: 0.4807692307692308\n"
     ]
    }
   ],
   "source": [
    "\n",
    "# BIB occupancy\n",
    "totalHits=len(bibData['x'])\n",
    "occupancy=[]\n",
    "for index in range(1,17):\n",
    "    for num in range(-6,7):\n",
    "        cut = (bibData['index']==index) & (bibData['num']==num)\n",
    "        occupancy.append(np.sum(cut)/totalBIBHits*100) \n",
    "print(f\"Average occupancy by bib: {np.mean(occupancy)}\")\n",
    "#print(f\"Standard Deviation of bib occupancy: {np.std(occupancy)} \")\n",
    "\n",
    "# signal occupancy  \n",
    "totalSignalHits=len(signalData['x'])\n",
    "occupancy=[]\n",
    "for index in range(1,17):\n",
    "    for num in range(-6,7):\n",
    "        cut = (signalData['index']==index) & (signalData['num']==num)\n",
    "        occupancy.append(np.sum(cut)/totalSignalHits*100) \n",
    "print(f\"Average occupancy by signal: {np.mean(occupancy)}\")\n",
    "#print(f\"Standard Deviation of signal occupancy: {np.std(occupancy)} \")"
   ]
  },
  {
   "cell_type": "code",
   "execution_count": null,
   "metadata": {},
   "outputs": [],
   "source": []
  }
 ],
 "metadata": {
  "kernelspec": {
   "display_name": "venv2",
   "language": "python",
   "name": "venv2"
  },
  "language_info": {
   "codemirror_mode": {
    "name": "ipython",
    "version": 3
   },
   "file_extension": ".py",
   "mimetype": "text/x-python",
   "name": "python",
   "nbconvert_exporter": "python",
   "pygments_lexer": "ipython3",
   "version": "3.9.21"
  }
 },
 "nbformat": 4,
 "nbformat_minor": 2
}
